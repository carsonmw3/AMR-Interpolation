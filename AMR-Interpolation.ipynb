{
 "cells": [
  {
   "cell_type": "markdown",
   "id": "5badca4c-ad48-4fc9-8e9d-136f5d8e5271",
   "metadata": {},
   "source": [
    "## **AMR Interpolation**"
   ]
  },
  {
   "cell_type": "markdown",
   "id": "c1b28407-708e-4fc6-bce3-ac9edec0950e",
   "metadata": {},
   "source": [
    "Import relevant libraries:"
   ]
  },
  {
   "cell_type": "code",
   "execution_count": 11,
   "id": "78ea23ca-80b7-4f13-a644-613a6f7d56c1",
   "metadata": {},
   "outputs": [],
   "source": [
    "import numpy as np\n",
    "import matplotlib.pyplot as plt\n",
    "import tensorflow as tf\n",
    "from tensorflow import keras\n",
    "from rawkit.raw import Raw\n",
    "import struct"
   ]
  },
  {
   "cell_type": "markdown",
   "id": "fafd557c-e681-470a-93f5-a8fb5a042673",
   "metadata": {},
   "source": [
    "Read in data:"
   ]
  },
  {
   "cell_type": "code",
   "execution_count": 78,
   "id": "89b97392-c498-4779-90d8-375488fef6fb",
   "metadata": {},
   "outputs": [
    {
     "name": "stdout",
     "output_type": "stream",
     "text": [
      "-8812612608.0\n"
     ]
    }
   ],
   "source": [
    "aData = []\n",
    "cData = []\n",
    "bData = []\n",
    "\n",
    "with open(\"data.raw\", \"rb\") as file:\n",
    "    for i in range(4608):\n",
    "        aBlock = np.empty((8,8,8))\n",
    "        for k in range(8):\n",
    "            for j in range(8):\n",
    "                for i in range(8):\n",
    "                    aBlock[i,j,k] = struct.unpack('<f', file.read(4))[0]\n",
    "        aData.append(aBlock)           \n",
    "\n",
    "        cBlock = np.empty((8,8,8))\n",
    "        for k in range(8):\n",
    "            for j in range(8):\n",
    "                for i in range(8):\n",
    "                    cBlock[i,j,k] = struct.unpack('<f', file.read(4))[0]\n",
    "        cData.append(cBlock)\n",
    "\n",
    "        bBlock = np.empty((8,8,8))\n",
    "        for k in range(8):\n",
    "            for j in range(8):\n",
    "                for i in range(8):\n",
    "                    bBlock[i,j,k] = struct.unpack('<f', file.read(4))[0]\n",
    "        bData.append(bBlock)   \n",
    "\n",
    "print(aData[2483][0,2,4])"
   ]
  },
  {
   "cell_type": "markdown",
   "id": "9c63c840-6a64-4be9-b869-d0a4985b163c",
   "metadata": {},
   "source": [
    "Make triples:"
   ]
  },
  {
   "cell_type": "code",
   "execution_count": null,
   "id": "9b52e89f-cebe-42b8-bd06-7a59846642ad",
   "metadata": {},
   "outputs": [],
   "source": []
  }
 ],
 "metadata": {
  "kernelspec": {
   "display_name": "Python 3 (ipykernel)",
   "language": "python",
   "name": "python3"
  },
  "language_info": {
   "codemirror_mode": {
    "name": "ipython",
    "version": 3
   },
   "file_extension": ".py",
   "mimetype": "text/x-python",
   "name": "python",
   "nbconvert_exporter": "python",
   "pygments_lexer": "ipython3",
   "version": "3.11.7"
  }
 },
 "nbformat": 4,
 "nbformat_minor": 5
}
