{
 "cells": [
  {
   "cell_type": "markdown",
   "id": "5badca4c-ad48-4fc9-8e9d-136f5d8e5271",
   "metadata": {},
   "source": [
    "## **AMR Interpolation**"
   ]
  },
  {
   "cell_type": "markdown",
   "id": "c1b28407-708e-4fc6-bce3-ac9edec0950e",
   "metadata": {},
   "source": [
    "Import relevant libraries:"
   ]
  },
  {
   "cell_type": "code",
   "execution_count": 34,
   "id": "78ea23ca-80b7-4f13-a644-613a6f7d56c1",
   "metadata": {},
   "outputs": [],
   "source": [
    "import numpy as np\n",
    "import matplotlib.pyplot as plt\n",
    "import tensorflow as tf\n",
    "from tensorflow import keras\n",
    "import struct"
   ]
  },
  {
   "cell_type": "markdown",
   "id": "8d7e2562-7580-445e-acef-d2859acca37c",
   "metadata": {},
   "source": [
    "Define some functions that will be useful:"
   ]
  },
  {
   "cell_type": "code",
   "execution_count": 58,
   "id": "1398b6e1-374b-46b7-b724-4732d9f8df6a",
   "metadata": {},
   "outputs": [],
   "source": [
    "def split_data(x_data, y_data, val_split):\n",
    "\n",
    "    train_split = 1 - val_split\n",
    "    train_size = int(x_data.shape[0] * train_split)\n",
    "\n",
    "    X_train = x_data[:train_size, :, :, :]\n",
    "    X_val = x_data[train_size:, :, :, :]\n",
    "\n",
    "    y_train = y_data[:train_size, :, :, :]\n",
    "    y_val = y_data[train_size:, :, :, :]\n",
    "\n",
    "    return (X_train, y_train), (X_val, y_val)"
   ]
  },
  {
   "cell_type": "markdown",
   "id": "fafd557c-e681-470a-93f5-a8fb5a042673",
   "metadata": {},
   "source": [
    "Read in data:"
   ]
  },
  {
   "cell_type": "code",
   "execution_count": 29,
   "id": "89b97392-c498-4779-90d8-375488fef6fb",
   "metadata": {
    "scrolled": true
   },
   "outputs": [],
   "source": [
    "aData = np.empty((4608,8,8,8))\n",
    "cData = np.empty((4608,8,8,8))\n",
    "bData = np.empty((4608,8,8,8))\n",
    "\n",
    "with open(\"data.raw\", \"rb\") as file:\n",
    "    for n in range(4608):\n",
    "        for k in range(8):\n",
    "            for j in range(8):\n",
    "                for i in range(8):\n",
    "                    aData[n,i,j,k] = struct.unpack('<f', file.read(4))[0]         \n",
    "\n",
    "        for k in range(8):\n",
    "            for j in range(8):\n",
    "                for i in range(8):\n",
    "                    cData[n,i,j,k] = struct.unpack('<f', file.read(4))[0]\n",
    "\n",
    "        for k in range(8):\n",
    "            for j in range(8):\n",
    "                for i in range(8):\n",
    "                    bData[n,i,j,k] = struct.unpack('<f', file.read(4))[0]  \n",
    "\n",
    "# print(aData[2389,0,2,4])"
   ]
  },
  {
   "cell_type": "markdown",
   "id": "9c63c840-6a64-4be9-b869-d0a4985b163c",
   "metadata": {},
   "source": [
    "Format data as input/output for learning:"
   ]
  },
  {
   "cell_type": "code",
   "execution_count": 62,
   "id": "9b52e89f-cebe-42b8-bd06-7a59846642ad",
   "metadata": {},
   "outputs": [
    {
     "name": "stdout",
     "output_type": "stream",
     "text": [
      "(4147, 16, 8, 8)\n",
      "(4147, 8, 8, 8)\n",
      "(461, 16, 8, 8)\n",
      "(461, 8, 8, 8)\n"
     ]
    }
   ],
   "source": [
    "validation_split = 0.1\n",
    "\n",
    "X_full = np.empty((4608,16,8,8))\n",
    "y_full = bData\n",
    "\n",
    "for n in range(4608):\n",
    "    for k in range(8):\n",
    "        for j in range(8):\n",
    "            for i in range(8):\n",
    "                X_full[n,i,j,k] = aData[n,i,j,k]\n",
    "                X_full[n,i+8,j,k] = cData[n,i,j,k]\n",
    "\n",
    "(X_train, y_train), (X_val, y_val) = split_data(X_full, y_full, validation_split)\n",
    "print(X_train.shape)\n",
    "print(y_train.shape)\n",
    "print(X_val.shape)\n",
    "print(y_val.shape)\n"
   ]
  },
  {
   "cell_type": "code",
   "execution_count": null,
   "id": "426ba7f8-3c20-4b8a-85a7-0b57ea66a16d",
   "metadata": {},
   "outputs": [],
   "source": []
  }
 ],
 "metadata": {
  "kernelspec": {
   "display_name": "Python 3 (ipykernel)",
   "language": "python",
   "name": "python3"
  },
  "language_info": {
   "codemirror_mode": {
    "name": "ipython",
    "version": 3
   },
   "file_extension": ".py",
   "mimetype": "text/x-python",
   "name": "python",
   "nbconvert_exporter": "python",
   "pygments_lexer": "ipython3",
   "version": "3.11.7"
  }
 },
 "nbformat": 4,
 "nbformat_minor": 5
}
